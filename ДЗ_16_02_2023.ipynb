{
  "nbformat": 4,
  "nbformat_minor": 0,
  "metadata": {
    "colab": {
      "provenance": []
    },
    "kernelspec": {
      "name": "python3",
      "display_name": "Python 3"
    },
    "language_info": {
      "name": "python"
    }
  },
  "cells": [
    {
      "cell_type": "code",
      "source": [
        "class Length:\n",
        "    def __init__(self, value, unit):\n",
        "        self.__value = value\n",
        "        self.__unit = unit\n",
        "\n",
        "    def __str__(self):\n",
        "        return f'Length({self.__value} {self.__unit})'\n",
        "\n",
        "    def __getLength(self):\n",
        "        return str(self.__value)+self.__unit\n",
        "\n",
        "    def __setUnit(self, unit):\n",
        "        correct = ['см', 'м', 'км']\n",
        "        previous_unit = self.__unit\n",
        "        if unit in correct:\n",
        "            self.__unit = unit\n",
        "            if previous_unit == 'м' and self.__unit == 'см':\n",
        "                self.__value = self.__value * 100\n",
        "            elif previous_unit == 'см' and self.__unit == 'м':\n",
        "                self.__value = self.__value / 100\n",
        "            elif previous_unit == 'км' and self.__unit == 'м':\n",
        "                self.__value = self.__value * 1000\n",
        "            elif previous_unit == 'м' and self.__unit == 'км':\n",
        "                self.__value = self.__value / 1000\n",
        "            elif previous_unit == 'см' and self.__unit == 'км':\n",
        "                self.__value = self.__value / 100000\n",
        "            elif previous_unit == 'км' and self.__unit == 'см':\n",
        "                self.__value = self.__value * 100000\n",
        "\n",
        "        else:\n",
        "            raise ValueError(\"Неверная единица измерения\")\n",
        "\n",
        "    value = property(__getLength, __setUnit)\n",
        "\n",
        "\n",
        "table = Length(1, 'км') # создаем объект\n",
        "print(table.value) # __getLenght\n",
        "table.value = 'см' # __setUnit\n",
        "print(table.value) # __getLenght\n",
        "\n",
        "        "
      ],
      "metadata": {
        "colab": {
          "base_uri": "https://localhost:8080/"
        },
        "id": "eVX3t9wn0npy",
        "outputId": "24ec2f66-ecb6-41cf-9177-156f5e846604"
      },
      "execution_count": 20,
      "outputs": [
        {
          "output_type": "stream",
          "name": "stdout",
          "text": [
            "1км\n",
            "100000см\n"
          ]
        }
      ]
    },
    {
      "cell_type": "code",
      "source": [
        "class Point:\n",
        "    def __init__(self, x, y):\n",
        "        self.x = x\n",
        "        self.y = y\n",
        "\n",
        "\n",
        "    def __str__(self):\n",
        "        return f\"Point({self.x}, {self.y})\"\n",
        "\n",
        "class Rect:\n",
        "    def __init__(self, top_left, bottom_right):\n",
        "        self.A = top_left\n",
        "        self.C = bottom_right\n",
        "      \n",
        "\n",
        "    def __str__(self):\n",
        "        return f\"Rect({self.A}, {self.C})\"\n",
        "\n",
        "    def sides(self):\n",
        "        return abs(self.C.x - self.A.x), abs(self.A.y - self.C.y)\n",
        "\n",
        "    def perim(self):\n",
        "        a, b = self.sides()\n",
        "        return 2*(a+b)\n",
        "\n",
        "\n",
        "point_1 = Point(0,5) # создаем объект \n",
        "point_2 = Point(5,0) # создаем объект\n",
        "print(point_1) # проверяем метод __str__()\n",
        "print()\n",
        "\n",
        "rectangle = Rect(point_1,point_2) # создаем объект\n",
        "print(rectangle) # проверяем метод __str__()\n",
        "print(rectangle.sides()) # вызываем метод sides() \n",
        "print(rectangle.perim()) # вызываем метод perim() "
      ],
      "metadata": {
        "colab": {
          "base_uri": "https://localhost:8080/"
        },
        "id": "Ry65qTQRopkT",
        "outputId": "033d3c2c-581f-48f9-c5d3-ee7048d0593d"
      },
      "execution_count": 7,
      "outputs": [
        {
          "output_type": "stream",
          "name": "stdout",
          "text": [
            "Point(0, 5)\n",
            "\n",
            "Rect(Point(0, 5), Point(5, 0))\n",
            "(5, 5)\n",
            "20\n"
          ]
        }
      ]
    },
    {
      "cell_type": "code",
      "source": [
        "class Point:\n",
        "    def __init__(self, x, y):\n",
        "        self.x = x\n",
        "        self.y = y\n",
        "        \n",
        "    def __str__(self):\n",
        "        return f'Point({self.x},{self.y})'\n",
        "\n",
        "point_1 = Point(0,6) # создаем объект\n",
        "point_2 = Point(6,0) # создаем объект \n",
        "point_3 = Point(1,0) # создаем объект\n",
        "\n",
        "class Triangle:\n",
        "\n",
        "    def __init__(self, A, B, C):\n",
        "        self.A = A\n",
        "        self.B = B\n",
        "        self.C = C  \n",
        "\n",
        "    def __str__(self):\n",
        "        return f'Triangle({self.A},{self.B},{self.C})'\n",
        "\n",
        "    def sides(self):\n",
        "        AB = ((self.A.x-self.B.x)**2 + (self.A.y-self.B.y)**2)**0.5\n",
        "        BC = ((self.B.x-self.C.x)**2 + (self.B.y-self.C.y)**2)**0.5\n",
        "        AC = ((self.A.x-self.C.x)**2 + (self.A.y-self.C.y)**2)**0.5\n",
        "        return AB, BC, AC\n",
        "\n",
        "\n",
        "    def perim(self):\n",
        "        a, b, c = self.sides()\n",
        "        return a+b+c\n",
        "\n",
        "    def square(self):\n",
        "        a, b, c = self.sides()\n",
        "        p = (a+b+c)/2\n",
        "        s = (p*(p-a)*(p-b)*(p-c))**0.5\n",
        "        return s \n",
        "\n",
        "\n",
        "\n",
        "triangle = Triangle(point_1, point_2, point_3) # создаем объект \n",
        "print(triangle) # проверяем метод __str__()\n",
        "print(triangle.sides()) # вызываем метод sides() \n",
        "print(triangle.perim()) # вызываем метод perim() \n",
        "print(triangle.square()) # вызываем метод square() "
      ],
      "metadata": {
        "colab": {
          "base_uri": "https://localhost:8080/"
        },
        "id": "LP0gfzZUr5Yy",
        "outputId": "47b88831-6b45-4565-dfd9-fd739baf786e"
      },
      "execution_count": 9,
      "outputs": [
        {
          "output_type": "stream",
          "name": "stdout",
          "text": [
            "Triangle(Point(0,6),Point(6,0),Point(1,0))\n",
            "(8.48528137423857, 5.0, 6.082762530298219)\n",
            "19.56804390453679\n",
            "15.000000000000004\n"
          ]
        }
      ]
    }
  ]
}