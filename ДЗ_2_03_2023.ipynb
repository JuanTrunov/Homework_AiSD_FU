{
  "nbformat": 4,
  "nbformat_minor": 0,
  "metadata": {
    "colab": {
      "provenance": []
    },
    "kernelspec": {
      "name": "python3",
      "display_name": "Python 3"
    },
    "language_info": {
      "name": "python"
    }
  },
  "cells": [
    {
      "cell_type": "markdown",
      "source": [
        "ВЕДОМОСТЬ"
      ],
      "metadata": {
        "id": "3MLDlFX09BjN"
      }
    },
    {
      "cell_type": "code",
      "source": [
        "class Gradebook:\n",
        "    subjects = ['Математика', 'Физика', 'Информатика', 'Химия', 'Биология']\n",
        "\n",
        "    def __init__(self, subject, group):\n",
        "        self.subject = subject\n",
        "        self.group = group\n",
        "        self.students = {} # словарь для хранения информации об оценках студентов\n",
        "\n",
        "    def put(self, surname, mark):\n",
        "        marks = ['отлично', 'хорошо', 'удовл.', 'неудовл.', 'н/я']\n",
        "        if mark not in marks:\n",
        "            print('Ошибка: Оценка должна быть отлично, хорошо, удовл., неудовл. или н/я')\n",
        "            return\n",
        "        self.students[surname] = mark # добавление в словарь 'self.students' студента и его оценку\n",
        "\n",
        "    def get(self, surname):\n",
        "        result = self.students.get(surname, 'Студент не найден')\n",
        "        print(f'Оценка студента {surname}: {result}')\n",
        "        return result\n",
        "\n",
        "    def change(self, surname, mark): \n",
        "        if surname not in self.students:\n",
        "            print('Ошибка: Студент не найден')\n",
        "            return\n",
        "        self.students[surname] = mark\n",
        "\n",
        "    def delete(self, surname):\n",
        "        if surname not in self.students:\n",
        "            print('Ошибка: Студент не найден')\n",
        "            return\n",
        "        del self.students[surname]\n",
        "\n",
        "    def result(self):\n",
        "        marks_count = [0, 0, 0, 0, 0]\n",
        "        for mark in self.students.values():\n",
        "            if mark == 'отлично':\n",
        "                marks_count[0] += 1\n",
        "            elif mark == 'хорошо':\n",
        "                marks_count[1] += 1\n",
        "            elif mark == 'удовл.':\n",
        "                marks_count[2] += 1\n",
        "            elif mark == 'неудовл.':\n",
        "                marks_count[3] += 1\n",
        "            elif mark == 'н/я':\n",
        "                marks_count[4] += 1\n",
        "        return tuple(marks_count)\n",
        "\n",
        "    def __str__(self):\n",
        "        header = f'Дисциплина: {self.subject}, Группа: {self.group}\\n'\n",
        "        table = 'Фамилия\\tОценка\\n'\n",
        "        for surname, mark in self.students.items():\n",
        "            table += f'{surname}\\t{mark}\\n'\n",
        "        return header + table\n",
        "\n",
        "# создаем объект класса Gradebook\n",
        "gb = Gradebook('Информатика', 'ПИ22-3')\n",
        "\n",
        "# добавляем оценки студентов\n",
        "gb.put('Маширов', 'отлично')\n",
        "gb.put('Трунов', 'хорошо')\n",
        "gb.put('Исмаилов', 'удовл.')\n",
        "gb.put('Клявляев', 'неудовл.')\n",
        "gb.put('Прозоров', 'н/я')\n",
        "\n",
        "# выводим информацию об оценках всех студентов\n",
        "print(gb)\n",
        "\n",
        "# выводим оценку конкретного студента\n",
        "gb.get('Прозоров')\n",
        "\n",
        "# изменяем оценку студента\n",
        "gb.change('Трунов', 'отлично')\n",
        "\n",
        "# удаляем студента из журнала\n",
        "gb.delete('Исмаилов')\n",
        "\n",
        "# выводим информацию об оценках всех студентов\n",
        "print(gb)\n",
        "\n",
        "# выводим количество студентов с каждой оценкой\n",
        "print(gb.result())\n",
        "\n",
        "\n"
      ],
      "metadata": {
        "colab": {
          "base_uri": "https://localhost:8080/"
        },
        "id": "4z9obz0LBxOu",
        "outputId": "ff0660c2-054a-4c98-fa7b-37592989c8a1"
      },
      "execution_count": 55,
      "outputs": [
        {
          "output_type": "stream",
          "name": "stdout",
          "text": [
            "Дисциплина: Информатика, Группа: ПИ22-3\n",
            "Фамилия\tОценка\n",
            "Маширов\tотлично\n",
            "Трунов\tхорошо\n",
            "Исмаилов\tудовл.\n",
            "Клявляев\tнеудовл.\n",
            "Прозоров\tн/я\n",
            "\n",
            "Оценка студента Прозоров: н/я\n",
            "Дисциплина: Информатика, Группа: ПИ22-3\n",
            "Фамилия\tОценка\n",
            "Маширов\tотлично\n",
            "Трунов\tотлично\n",
            "Клявляев\tнеудовл.\n",
            "Прозоров\tн/я\n",
            "\n",
            "(2, 0, 0, 1, 1)\n"
          ]
        }
      ]
    }
  ]
}