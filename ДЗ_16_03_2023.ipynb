{
  "nbformat": 4,
  "nbformat_minor": 0,
  "metadata": {
    "colab": {
      "provenance": []
    },
    "kernelspec": {
      "name": "python3",
      "display_name": "Python 3"
    },
    "language_info": {
      "name": "python"
    }
  },
  "cells": [
    {
      "cell_type": "markdown",
      "source": [
        "####1.* Реализовать функцию, принимающую на вход итерируемый объект функций и возвращающую словарь, в котором ключ — это первое слово из аннотации функции, а значение – ссылка на функцию."
      ],
      "metadata": {
        "id": "3dxX5ZnlbaYW"
      }
    },
    {
      "cell_type": "code",
      "execution_count": 3,
      "metadata": {
        "colab": {
          "base_uri": "https://localhost:8080/"
        },
        "id": "d3ufq3PCbF85",
        "outputId": "0b224007-0e2a-466b-a6ab-e1773873e37a"
      },
      "outputs": [
        {
          "output_type": "stream",
          "name": "stdout",
          "text": [
            "{'square': <function square at 0x7f45f0240040>, 'cube': <function cube at 0x7f45f0240af0>, 'abs': <function absolute_value at 0x7f45f0240b80>}\n"
          ]
        }
      ],
      "source": [
        "\n",
        "def square(x) -> 'square аннотация':\n",
        "    return x ** 2\n",
        "\n",
        "def cube(x) -> 'cube аннотация':\n",
        "    return x ** 3\n",
        "\n",
        "def absolute_value(x) -> 'abs аннотация':\n",
        "    return abs(x)\n",
        "\n",
        "\n",
        "\n",
        "functions = [square, cube, absolute_value]\n",
        "\n",
        "\n",
        "def get_functions_annotations_dict(functions):\n",
        "    functions_dict = {}\n",
        "    for func in functions:\n",
        "        func_link = func\n",
        "        annotation = func.__annotations__.get('return','')\n",
        "        functions_dict[annotation.split()[0]] = func_link\n",
        "    return functions_dict\n",
        "\n",
        "\n",
        "functions_dict = get_functions_annotations_dict(functions)\n",
        "print(functions_dict)\n",
        "\n"
      ]
    },
    {
      "cell_type": "markdown",
      "source": [
        "####2. Создать функцию, реализующую REPL для словаря, созданного в задаче 1. Отдельно должен предусматриваться выход из цикла REPL."
      ],
      "metadata": {
        "id": "b54QTqZ1bSyL"
      }
    },
    {
      "cell_type": "code",
      "source": [
        "def repl(function_dict):\n",
        "    while True:\n",
        "        command = input(\"Введите команду ('exit' для завершения): \")\n",
        "        if command == 'exit':\n",
        "            break\n",
        "        elif command in function_dict:\n",
        "            try:\n",
        "                argument = input(\"Введите аргумент: \")\n",
        "                result = function_dict[command](int(argument))\n",
        "                print(f\"Результат: {result}\")\n",
        "            except ValueError:\n",
        "                print(\"Ошибка: некорректный аргумент\")\n",
        "        else:\n",
        "            print(\"Ошибка: команда не найдена\")\n",
        "\n",
        "\n",
        "repl(functions_dict)"
      ],
      "metadata": {
        "colab": {
          "base_uri": "https://localhost:8080/"
        },
        "id": "W4wScGY3bW12",
        "outputId": "8d0e86a8-5ff5-4d52-f915-e6d954f74785"
      },
      "execution_count": 4,
      "outputs": [
        {
          "name": "stdout",
          "output_type": "stream",
          "text": [
            "Введите команду ('exit' для завершения): square\n",
            "Введите аргумент: 5\n",
            "Результат: 25\n",
            "Введите команду ('exit' для завершения): exit\n"
          ]
        }
      ]
    },
    {
      "cell_type": "markdown",
      "source": [
        "####2.1) Доработать REPL из задачи 2 так, чтобы пользователь мог передавать произвольное количество аргументов в функцию (при вводе пользователя аргументы разделяются пробелами)."
      ],
      "metadata": {
        "id": "rJn4IybLrfQR"
      }
    },
    {
      "cell_type": "code",
      "source": [
        "def repl_v2(function_dict):\n",
        "    while True:\n",
        "        command = input(\"Введите команду ('exit' для завершения): \")\n",
        "        if command == 'exit':\n",
        "            break\n",
        "        elif command in function_dict:\n",
        "            try:\n",
        "                args = input(\"Введите аргументы: \")\n",
        "                kwargs = {}\n",
        "                if args:\n",
        "                    for arg in args.split():\n",
        "                        name, value = arg.split('=')\n",
        "                        kwargs[name] = int(value)\n",
        "                result = function_dict[command](**kwargs) # вызов функции comand с аргументами kwags\n",
        "                print(f\"Результат: {result}\")\n",
        "            except (ValueError, TypeError) as e:\n",
        "                print(f\"Ошибка: {e}\")\n",
        "        else:\n",
        "            print(\"Ошибка: команда не найдена\")\n",
        "\n",
        "\n",
        "repl_v2(functions_dict)"
      ],
      "metadata": {
        "colab": {
          "base_uri": "https://localhost:8080/"
        },
        "id": "UjgeFdeRrhd3",
        "outputId": "47ec6bce-fcba-4e67-8b8b-afe65603bb4f"
      },
      "execution_count": 5,
      "outputs": [
        {
          "name": "stdout",
          "output_type": "stream",
          "text": [
            "Введите команду ('exit' для завершения): cube\n",
            "Введите аргументы: x=10\n",
            "Результат: 1000\n",
            "Введите команду ('exit' для завершения): exit\n"
          ]
        }
      ]
    },
    {
      "cell_type": "markdown",
      "source": [
        "####3. Реализовать функцию подсчета n-го числа Фибоначчи с помощью хвостовой рекурсии."
      ],
      "metadata": {
        "id": "JDZeQQ48s8_P"
      }
    },
    {
      "cell_type": "code",
      "source": [
        "# Числа Фибоначчи: 0, 1, 1, 2, 3, 5, 8, 13, 21, 34, 55\n",
        "# Номер числа:     0, 1, 2, 3, 4, 5, 6, 7,  8,  9,  10"
      ],
      "metadata": {
        "id": "HPDxpw14xknt"
      },
      "execution_count": null,
      "outputs": []
    },
    {
      "cell_type": "code",
      "source": [
        "def fib_tail(n, a=0, b=1):\n",
        "    if n == 0:\n",
        "        return a\n",
        "    elif n == 1:\n",
        "        return b\n",
        "    else:\n",
        "        return fib_tail(n - 1, b, a + b)\n",
        "fib_tail(6)"
      ],
      "metadata": {
        "id": "uM13Vujys_jS",
        "colab": {
          "base_uri": "https://localhost:8080/"
        },
        "outputId": "091d58fa-5c95-41d0-fcba-9f16a4eb46da"
      },
      "execution_count": 6,
      "outputs": [
        {
          "output_type": "execute_result",
          "data": {
            "text/plain": [
              "8"
            ]
          },
          "metadata": {},
          "execution_count": 6
        }
      ]
    }
  ]
}